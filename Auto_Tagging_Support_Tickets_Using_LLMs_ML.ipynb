{
  "nbformat": 4,
  "nbformat_minor": 0,
  "metadata": {
    "colab": {
      "provenance": [],
      "gpuType": "T4"
    },
    "kernelspec": {
      "name": "python3",
      "display_name": "Python 3"
    },
    "language_info": {
      "name": "python"
    },
    "accelerator": "GPU"
  },
  "cells": [
    {
      "cell_type": "markdown",
      "source": [
        "# **Title:** Auto-Tagging Support Tickets Using LLMs & ML\n",
        "\n",
        "## **Overview**\n",
        "This project addresses the problem of **automated ticket categorization** using both:\n",
        "\n",
        "- **Large Language Models (LLMs)** such as **Gemini** and **BART** for zero-shot and few-shot classification, and\n",
        "- **Traditional machine learning models** like **Logistic Regression** with **TF-IDF** features.\n",
        "\n",
        "Using a dataset of real-world support tickets (with fields like `title`, `body`, `category`, etc.), we build an end-to-end tagging pipeline that can output **top categories** for each incoming request.\n",
        "\n",
        "### **Techniques Used**\n",
        "- Prompt engineering (zero-shot & few-shot)\n",
        "- Gemini API for generative classification\n",
        "- TF-IDF + Logistic Regression pipeline\n",
        "- Hugging Face BART (facebook/bart-large-mnli)\n",
        "- Top-3 class probability extraction\n",
        "- LLM vs ML performance comparison"
      ],
      "metadata": {
        "id": "5poXx5B3gpzo"
      }
    },
    {
      "cell_type": "markdown",
      "source": [
        "### **Load and Explore the Dataset**\n",
        "* This cell loads the support ticket dataset from `CSV`, displays the shape (`rows × columns`), and prints the `first 5 rows` and `column names`. It's useful for `initial inspection`.\n"
      ],
      "metadata": {
        "id": "N0oNyqlpajD9"
      }
    },
    {
      "cell_type": "code",
      "source": [
        "import pandas as pd\n",
        "\n",
        "# Step 1: Load the CSV file\n",
        "df = pd.read_csv(\"support-ticket.csv\")\n",
        "\n",
        "# Step 2: Show the shape and first few rows\n",
        "print(\"Shape:\", df.shape)\n",
        "print(\"First 5 rows:\")\n",
        "print(df.head())\n",
        "\n",
        "# Step 3: Print the column names\n",
        "print(\"\\nColumn names:\")\n",
        "print(df.columns.tolist())"
      ],
      "metadata": {
        "colab": {
          "base_uri": "https://localhost:8080/"
        },
        "id": "RgcIqWtd8vrb",
        "outputId": "058261c5-9fc1-49c8-8de2-0ff03d1680af"
      },
      "execution_count": 26,
      "outputs": [
        {
          "output_type": "stream",
          "name": "stdout",
          "text": [
            "Shape: (48549, 9)\n",
            "First 5 rows:\n",
            "                                   title  \\\n",
            "0                                    NaN   \n",
            "1                   connection with icon   \n",
            "2                   work experience user   \n",
            "3                 requesting for meeting   \n",
            "4  reset passwords for external accounts   \n",
            "\n",
            "                                                                                                                                                                                                                                                                                                                                                                                                                                                                                                                                                                                                                                                                                                                                                                                                                                                                                                                                             body  \\\n",
            "0                                                                                                                                                                                                                                                                                                                                                                                                                                                                                                                                                                                                                                                                                                                                                                                                                                                      hi since recruiter lead permission approve requisitions makes please make thanks recruiter   \n",
            "1                                                                                                                                                                                                                                                                                                                                                                                                                                                                                                                                                                                                                                                                                                                                                                                                                                                      icon dear please setup icon per icon engineers please let other details needed thanks lead   \n",
            "2                                                                                                                                                                                                                                                                                                                                                                                                                                                                                                                                                                                                                                                                                                                                                                                                                                         work experience user hi work experience student coming next his name much appreciate him duration thank   \n",
            "3                                                                                                                                                                                                                                                                                                                                                                                                                                                                                                                                                                                                                                                                                                                                                                                                                                                                          requesting meeting hi please help follow equipments cable pc cord plug   \n",
            "4  re expire days hi ask help update passwords colleagues thank pm expire days importance high hi received about expiration please kindly help prolongation best regards pm expire days importance high dear expire days order change please follow steps prerequisites disable device credentials close active connected by cable machine note also follow steps detailed press ctrl alt delete same pops change item enter format enter enter newly chosen then re enter again submit displaying has changed os machine browse enter format enter gear icon top tight browser window enter enter newly chosen then re enter again save connected note complete resources granted once connected by cable browse tick want change after logging enter format enter log enter enter newly chosen then re enter again change clients suppliers about expire please touch person then communicate back encounter issues hesitate by accessing yours   \n",
            "\n",
            "   ticket_type  category  sub_category1  sub_category2  business_service  \\\n",
            "0            1         4              2             21                71   \n",
            "1            1         6             22              7                26   \n",
            "2            1         5             13              7                32   \n",
            "3            1         5             13              7                32   \n",
            "4            1         4              2             76                 4   \n",
            "\n",
            "   urgency  impact  \n",
            "0        3       4  \n",
            "1        3       4  \n",
            "2        3       4  \n",
            "3        3       4  \n",
            "4        3       4  \n",
            "\n",
            "Column names:\n",
            "['title', 'body', 'ticket_type', 'category', 'sub_category1', 'sub_category2', 'business_service', 'urgency', 'impact']\n"
          ]
        }
      ]
    },
    {
      "cell_type": "markdown",
      "source": [
        "### **Data Cleaning and Preparation**\n",
        "* Here, the `title` and body `columns` are merged into a single `text` column. Any rows with missing `text` or `category` values are dropped. The `category` column is cast to integer type. This ensures clean, usable data for downstream models."
      ],
      "metadata": {
        "id": "mQNn27FRa1xJ"
      }
    },
    {
      "cell_type": "code",
      "source": [
        "# Step 1.1: Combine 'title' and 'body' into one text column\n",
        "df['text'] = df['title'].fillna('') + ' ' + df['body'].fillna('')\n",
        "\n",
        "# Step 1.2: Drop rows where 'text' or 'category' is missing\n",
        "df = df.dropna(subset=['text', 'category'])\n",
        "\n",
        "# Step 1.3: Ensure 'category' is integer\n",
        "df['category'] = df['category'].astype(int)\n",
        "\n",
        "# Step 1.4: Print basic info\n",
        "print(\"Cleaned dataset shape:\", df.shape)\n",
        "print(\"\\nExample text:\\n\", df['text'].iloc[0])\n",
        "print(\"\\nUnique categories:\", df['category'].nunique())\n",
        "print(df['category'].value_counts().head())\n"
      ],
      "metadata": {
        "colab": {
          "base_uri": "https://localhost:8080/"
        },
        "id": "DxvmURpd8vo3",
        "outputId": "dee825b8-57df-4f19-9204-48efe97f5001"
      },
      "execution_count": 27,
      "outputs": [
        {
          "output_type": "stream",
          "name": "stdout",
          "text": [
            "Cleaned dataset shape: (48549, 10)\n",
            "\n",
            "Example text:\n",
            "  hi since recruiter lead permission approve requisitions makes please make thanks recruiter\n",
            "\n",
            "Unique categories: 13\n",
            "category\n",
            "4     34061\n",
            "5      9634\n",
            "6      2628\n",
            "7       921\n",
            "11      612\n",
            "Name: count, dtype: int64\n"
          ]
        }
      ]
    },
    {
      "cell_type": "markdown",
      "source": [
        "### **Zero-Shot Classification with Hugging Face BART**\n",
        "* This cell uses `facebook/bart-large-mnli` to perform zero-shot classification on a single ticket. Candidate labels are derived from unique categories in the dataset."
      ],
      "metadata": {
        "id": "NLb_o3NEbGB_"
      }
    },
    {
      "cell_type": "code",
      "source": [
        "from transformers import pipeline\n",
        "\n",
        "# Initialize zero-shot classifier\n",
        "classifier = pipeline(\"zero-shot-classification\", model=\"facebook/bart-large-mnli\")\n",
        "\n",
        "# Example input\n",
        "sample_text = df['text'].iloc[0]\n",
        "\n",
        "# Define candidate labels\n",
        "candidate_labels = [str(c) for c in sorted(df['category'].unique())]\n",
        "\n",
        "# Run zero-shot prediction\n",
        "result = classifier(sample_text, candidate_labels, multi_label=False)\n",
        "\n",
        "# Show result\n",
        "print(\"🔍 Top prediction:\", result['labels'][0])\n",
        "print(\"🔢 All scores:\", dict(zip(result['labels'], result['scores'])))"
      ],
      "metadata": {
        "colab": {
          "base_uri": "https://localhost:8080/"
        },
        "id": "3tZHLFCwHy0N",
        "outputId": "4fdb8562-a8d9-4269-84aa-a6382ac3cea8"
      },
      "execution_count": 28,
      "outputs": [
        {
          "output_type": "stream",
          "name": "stderr",
          "text": [
            "Device set to use cuda:0\n"
          ]
        },
        {
          "output_type": "stream",
          "name": "stdout",
          "text": [
            "🔍 Top prediction: 1\n",
            "🔢 All scores: {'1': 0.1324264407157898, '2': 0.09119339287281036, '0': 0.08559601753950119, '4': 0.08088956028223038, '8': 0.07654865831136703, '6': 0.0763733834028244, '3': 0.07570978254079819, '9': 0.07054754346609116, '7': 0.0695902407169342, '12': 0.06742415577173233, '5': 0.06341762095689774, '10': 0.0553167499601841, '11': 0.05496637895703316}\n"
          ]
        }
      ]
    },
    {
      "cell_type": "markdown",
      "source": [
        "### **Install and Configure Gemini API**\n",
        "* Installs the `google-generativeai` SDK and sets up Gemini with your API key."
      ],
      "metadata": {
        "id": "KzQX5fN1bSIc"
      }
    },
    {
      "cell_type": "code",
      "source": [
        "!pip install -q -U google-generativeai"
      ],
      "metadata": {
        "id": "oHm1UwWVMkt6"
      },
      "execution_count": 29,
      "outputs": []
    },
    {
      "cell_type": "code",
      "source": [
        "import google.generativeai as genai\n",
        "\n",
        "# Replace with your Gemini API key\n",
        "genai.configure(api_key=\"ENTER_YOUR_GEMINI_API_KEY\")"
      ],
      "metadata": {
        "id": "-nyMmG7vMkwf"
      },
      "execution_count": 30,
      "outputs": []
    },
    {
      "cell_type": "markdown",
      "source": [
        "##### **(Optional) Check List Available Gemini Models**\n",
        "* This (commented-out) block lets you inspect all available Gemini models using `genai.list_models()`."
      ],
      "metadata": {
        "id": "sYUuSWHhbcfi"
      }
    },
    {
      "cell_type": "code",
      "source": [
        "# for m in genai.list_models():\n",
        "#     print(m.name)"
      ],
      "metadata": {
        "id": "gBLMvl1cJJeL"
      },
      "execution_count": 31,
      "outputs": []
    },
    {
      "cell_type": "markdown",
      "source": [
        "### **Create Zero-Shot Prompt for Gemini**\n",
        "* This prompt is formatted to instruct Gemini to classify a single text into one of several ticket categories. It’s a plain zero-shot example with no training examples included."
      ],
      "metadata": {
        "id": "5mATf_caborP"
      }
    },
    {
      "cell_type": "code",
      "source": [
        "# ✉️ Zero-shot prompt (no examples)\n",
        "zero_shot_prompt = \"\"\"\n",
        "You are an AI support ticket classifier. Classify the following text into one of the categories:\n",
        "1, 3, 4, 5, 6, 7, 8, 9, 11, 12\n",
        "\n",
        "Text: \"connection with icon\"\n",
        "Category:\n",
        "\"\"\""
      ],
      "metadata": {
        "id": "t0r0KLJUQmKv"
      },
      "execution_count": 32,
      "outputs": []
    },
    {
      "cell_type": "markdown",
      "source": [
        "### **Generate Zero-Shot Prediction from Gemini**\n",
        "* Here, Gemini (`models/gemini-1.5-flash`) is called using the prompt defined earlier. The predicted category is printed."
      ],
      "metadata": {
        "id": "4GLTUul2bwdM"
      }
    },
    {
      "cell_type": "code",
      "source": [
        "model = genai.GenerativeModel(\"models/gemini-1.5-flash\")\n",
        "\n",
        "response = model.generate_content(zero_shot_prompt)\n",
        "\n",
        "print(\"🔮 Predicted Category:\", response.text.strip())"
      ],
      "metadata": {
        "colab": {
          "base_uri": "https://localhost:8080/",
          "height": 54
        },
        "id": "didl855_Qos-",
        "outputId": "c0c21495-3617-4895-f1f5-a1203ea30bf1"
      },
      "execution_count": 33,
      "outputs": [
        {
          "output_type": "stream",
          "name": "stdout",
          "text": [
            "🔮 Predicted Category: The provided text \"connection with icon\" is too vague for accurate classification without more context.  It could relate to several categories (e.g., network connectivity issues, software display problems, etc.).  Therefore, I cannot assign it to a specific category from the list provided (1, 3, 4, 5, 6, 7, 8, 9, 11, 12).  More information is needed.\n"
          ]
        }
      ]
    },
    {
      "cell_type": "markdown",
      "source": [
        "### **Few-Shot Prompt Example for Gemini**\n",
        "* This cell defines a few-shot prompt that includes three labeled examples before presenting a new ticket for classification. This typically improves accuracy over zero-shot."
      ],
      "metadata": {
        "id": "L3R80ouVb4J-"
      }
    },
    {
      "cell_type": "code",
      "source": [
        "few_shot_prompt = \"\"\"\n",
        "You are a support ticket classifier. Classify the following text into one of the following categories: 1, 3, 4, 5, 6, 7, 8, 9, 11, 12.\n",
        "Only return the category number. Do not explain.\n",
        "\n",
        "Examples:\n",
        "Text: \"reset passwords for external accounts\"\n",
        "Category: 4\n",
        "\n",
        "Text: \"connection with icon\"\n",
        "Category: 6\n",
        "\n",
        "Text: \"requesting for meeting\"\n",
        "Category: 5\n",
        "\n",
        "Now classify:\n",
        "Text: \"work experience user hi work experience student uploaded document...\"\n",
        "Category:\n",
        "\"\"\"\n"
      ],
      "metadata": {
        "id": "hHRjFsJwJJnt"
      },
      "execution_count": 34,
      "outputs": []
    },
    {
      "cell_type": "markdown",
      "source": [
        "### **Generate Few-Shot Prediction from Gemini**\n",
        "* Runs the few-shot prompt through the Gemini model and prints its predicted category."
      ],
      "metadata": {
        "id": "oyeE90Vpb-sE"
      }
    },
    {
      "cell_type": "code",
      "source": [
        "model = genai.GenerativeModel(\"models/gemini-1.5-flash\")\n",
        "\n",
        "response = model.generate_content(few_shot_prompt)\n",
        "\n",
        "print(\"🔮 Predicted Category:\", response.text.strip())"
      ],
      "metadata": {
        "colab": {
          "base_uri": "https://localhost:8080/",
          "height": 34
        },
        "id": "uk-b2QoBJJhj",
        "outputId": "426f4031-1757-4b18-d738-2472df321964"
      },
      "execution_count": 35,
      "outputs": [
        {
          "output_type": "stream",
          "name": "stdout",
          "text": [
            "🔮 Predicted Category: 12\n"
          ]
        }
      ]
    },
    {
      "cell_type": "markdown",
      "source": [
        "### **Ask Gemini for Top-3 Category Predictions**\n",
        "* This cell asks Gemini to return the **top 3 most likely categories** for a given support ticket. This satisfies the \"`multi-class ranking`\" requirement in Task 5."
      ],
      "metadata": {
        "id": "yffS8ZYrcE1j"
      }
    },
    {
      "cell_type": "code",
      "source": [
        "prompt = \"\"\"\n",
        "You are an AI support ticket classifier. For each text, return the top 3 most probable category numbers from the following: 1, 3, 4, 5, 6, 7, 8, 9, 11, 12.\n",
        "\n",
        "Text: \"reset passwords for external accounts\"\n",
        "\n",
        "Return format:\n",
        "Top 3 Categories: [4, 1, 5]\n",
        "\"\"\"\n",
        "\n",
        "response = model.generate_content(prompt)\n",
        "print(response.text)\n"
      ],
      "metadata": {
        "colab": {
          "base_uri": "https://localhost:8080/",
          "height": 52
        },
        "id": "jFI0cIMHJJXf",
        "outputId": "8656a5b6-3840-45a2-a442-978658894229"
      },
      "execution_count": 36,
      "outputs": [
        {
          "output_type": "stream",
          "name": "stdout",
          "text": [
            "Top 3 Categories: [4, 1, 5]\n",
            "\n"
          ]
        }
      ]
    },
    {
      "cell_type": "markdown",
      "source": [
        "### **Install Scikit-learn (for ML baseline)**\n",
        "* Installs `scikit-learn`, which is used to train a traditional ML model (`Logistic Regression`) as a baseline for comparison."
      ],
      "metadata": {
        "id": "Mbz9YatycP1E"
      }
    },
    {
      "cell_type": "code",
      "source": [
        "!pip install -U scikit-learn"
      ],
      "metadata": {
        "colab": {
          "base_uri": "https://localhost:8080/"
        },
        "id": "L61YXqGTTPPF",
        "outputId": "7d848c29-761a-4230-b6ca-9e52f0ddf9f6"
      },
      "execution_count": 37,
      "outputs": [
        {
          "output_type": "stream",
          "name": "stdout",
          "text": [
            "Requirement already satisfied: scikit-learn in /usr/local/lib/python3.11/dist-packages (1.7.1)\n",
            "Requirement already satisfied: numpy>=1.22.0 in /usr/local/lib/python3.11/dist-packages (from scikit-learn) (2.0.2)\n",
            "Requirement already satisfied: scipy>=1.8.0 in /usr/local/lib/python3.11/dist-packages (from scikit-learn) (1.16.0)\n",
            "Requirement already satisfied: joblib>=1.2.0 in /usr/local/lib/python3.11/dist-packages (from scikit-learn) (1.5.1)\n",
            "Requirement already satisfied: threadpoolctl>=3.1.0 in /usr/local/lib/python3.11/dist-packages (from scikit-learn) (3.6.0)\n"
          ]
        }
      ]
    },
    {
      "cell_type": "markdown",
      "source": [
        "### **Train a Logistic Regression Pipeline**\n",
        "* This block trains a pipeline using TF-IDF vectorization and Logistic Regression on the ticket text. The trained model (`model_pipeline`) will be used later for comparison with Gemini. It also prints the model’s test accuracy."
      ],
      "metadata": {
        "id": "UNSGGAnScYI5"
      }
    },
    {
      "cell_type": "code",
      "source": [
        "from sklearn.pipeline import Pipeline\n",
        "from sklearn.model_selection import train_test_split\n",
        "from sklearn.linear_model import LogisticRegression\n",
        "from sklearn.feature_extraction.text import TfidfVectorizer\n",
        "\n",
        "# Combine title and body into single text column\n",
        "df_clean = df.copy()\n",
        "df_clean['text'] = df_clean['title'].fillna('') + ' ' + df_clean['body'].fillna('')\n",
        "df_clean = df_clean.dropna(subset=[\"category\"])  # Ensure target exists\n",
        "\n",
        "# Features and labels\n",
        "X = df_clean['text']\n",
        "y = df_clean['category'].astype(int)\n",
        "\n",
        "# Split the data\n",
        "X_train, X_test, y_train, y_test = train_test_split(X, y, stratify=y, test_size=0.2, random_state=42)\n",
        "\n",
        "# Define and train pipeline\n",
        "model_pipeline = Pipeline([\n",
        "    ('tfidf', TfidfVectorizer(max_features=5000, stop_words=\"english\")),\n",
        "    ('clf', LogisticRegression(max_iter=1000, random_state=42))\n",
        "])\n",
        "model_pipeline.fit(X_train, y_train)\n",
        "\n",
        "# Evaluate\n",
        "print(\"📊 Model accuracy on test set:\", model_pipeline.score(X_test, y_test))"
      ],
      "metadata": {
        "colab": {
          "base_uri": "https://localhost:8080/"
        },
        "id": "ULlu0NgWTPLJ",
        "outputId": "eeec02da-43db-4287-d4e6-95fe6f827079"
      },
      "execution_count": 38,
      "outputs": [
        {
          "output_type": "stream",
          "name": "stdout",
          "text": [
            "📊 Model accuracy on test set: 0.8634397528321318\n"
          ]
        }
      ]
    },
    {
      "cell_type": "markdown",
      "source": [
        "### **Compare Gemini vs Logistic Regression (Side-by-Side)**\n",
        "This cell randomly samples 5 tickets and shows predictions from both:\n",
        "\n",
        "- Gemini (LLM)\n",
        "- Logistic Regression (TF-IDF + sklearn)\n",
        "\n",
        "A comparison table is printed to help evaluate strengths and weaknesses of each approach."
      ],
      "metadata": {
        "id": "Q_RyGFa3chJ9"
      }
    },
    {
      "cell_type": "code",
      "source": [
        "import pandas as pd\n",
        "\n",
        "# Select sample tickets to compare\n",
        "num_samples = 5\n",
        "sample_df = df_clean.sample(num_samples, random_state=42)\n",
        "\n",
        "# Prepare text input (combine title + body)\n",
        "sample_texts = (sample_df[\"title\"].fillna(\"\") + \" \" + sample_df[\"body\"].fillna(\"\")).tolist()\n",
        "\n",
        "# Gemini Predictions (LLM)\n",
        "gemini_predictions = []\n",
        "for text in sample_texts:\n",
        "    prompt = f\"\"\"\n",
        "    You are an AI support ticket classifier. Classify this text into one of the categories:\n",
        "    1, 3, 4, 5, 6, 7, 8, 9, 11, 12\n",
        "\n",
        "    Text: \"{text}\"\n",
        "    Category:\n",
        "    \"\"\"\n",
        "    response = model.generate_content(prompt)\n",
        "    # Extract category number (handle Gemini's verbose answer)\n",
        "    import re\n",
        "    match = re.search(r\"\\bCategory:\\s*(\\d+)\", response.text)\n",
        "    gemini_predictions.append(int(match.group(1)) if match else \"N/A\")\n",
        "\n",
        "# Logistic Regression Predictions (ML)\n",
        "ml_predictions = model_pipeline.predict(sample_texts)\n",
        "\n",
        "# Combine results in a DataFrame\n",
        "comparison_df = pd.DataFrame({\n",
        "    \"Text\": sample_texts,\n",
        "    \"LLM_Predicted_Category\": gemini_predictions,\n",
        "    \"ML_Predicted_Category\": ml_predictions\n",
        "})\n",
        "\n",
        "# Print side-by-side predictions\n",
        "import pandas as pd\n",
        "pd.set_option('display.max_colwidth', None)\n",
        "display(comparison_df)"
      ],
      "metadata": {
        "colab": {
          "base_uri": "https://localhost:8080/",
          "height": 327
        },
        "id": "IdMR-xc2VfJN",
        "outputId": "ad4fcaa5-a9cc-4715-9609-e4928c47b9f3"
      },
      "execution_count": 39,
      "outputs": [
        {
          "output_type": "display_data",
          "data": {
            "text/plain": [
              "                                                                                                                                                                                                                                                                                                                                                                                                                                                                                                                                                                                         Text  \\\n",
              "0                                                                                                                                                                                                                                                                                                                                                                                                                                                                         expense report friday march expense report hello expense report submitted waiting please let how find approve thank   \n",
              "1                                                                                                                                                                                                                                                                                                                                                                                                                              can connect with oracle can connect with dear have problem with connecting with entering password open please why can connect urgent thank you regards manager   \n",
              "2  access request for a list or library friday pm library requesting library links library manage setting library please provide regards note site site site provides central storage collaboration information ideas site tool collaboration tool communication meeting tool decision making site helps groups work teams social groups share information work together example site help coordinate calendars schedules discuss ideas review proposals share information keep touch other sites dynamic interactive members site contribute own ideas content well comment contribute other   \n",
              "3                                                                                                                                                                                                                                                                                                                                                                                                                                                                                                                         hi please help employees attached thank officer floor blvd district   \n",
              "4                                                                                                                                                                                                                                                                                                                                                                              reset domain password tuesday october pm hello please colleague thank tester registered under number whose registered old broad street kingdom provide clients each subsidiaries separate entity has liability   \n",
              "\n",
              "  LLM_Predicted_Category  ML_Predicted_Category  \n",
              "0                    N/A                      4  \n",
              "1                    N/A                      4  \n",
              "2                    N/A                      4  \n",
              "3                    N/A                      4  \n",
              "4                    N/A                      4  "
            ],
            "text/html": [
              "\n",
              "  <div id=\"df-9f534b9c-3987-45aa-9a8d-43aa7f03fa44\" class=\"colab-df-container\">\n",
              "    <div>\n",
              "<style scoped>\n",
              "    .dataframe tbody tr th:only-of-type {\n",
              "        vertical-align: middle;\n",
              "    }\n",
              "\n",
              "    .dataframe tbody tr th {\n",
              "        vertical-align: top;\n",
              "    }\n",
              "\n",
              "    .dataframe thead th {\n",
              "        text-align: right;\n",
              "    }\n",
              "</style>\n",
              "<table border=\"1\" class=\"dataframe\">\n",
              "  <thead>\n",
              "    <tr style=\"text-align: right;\">\n",
              "      <th></th>\n",
              "      <th>Text</th>\n",
              "      <th>LLM_Predicted_Category</th>\n",
              "      <th>ML_Predicted_Category</th>\n",
              "    </tr>\n",
              "  </thead>\n",
              "  <tbody>\n",
              "    <tr>\n",
              "      <th>0</th>\n",
              "      <td>expense report friday march expense report hello expense report submitted waiting please let how find approve thank</td>\n",
              "      <td>N/A</td>\n",
              "      <td>4</td>\n",
              "    </tr>\n",
              "    <tr>\n",
              "      <th>1</th>\n",
              "      <td>can connect with oracle can connect with dear have problem with connecting with entering password open please why can connect urgent thank you regards manager</td>\n",
              "      <td>N/A</td>\n",
              "      <td>4</td>\n",
              "    </tr>\n",
              "    <tr>\n",
              "      <th>2</th>\n",
              "      <td>access request for a list or library friday pm library requesting library links library manage setting library please provide regards note site site site provides central storage collaboration information ideas site tool collaboration tool communication meeting tool decision making site helps groups work teams social groups share information work together example site help coordinate calendars schedules discuss ideas review proposals share information keep touch other sites dynamic interactive members site contribute own ideas content well comment contribute other</td>\n",
              "      <td>N/A</td>\n",
              "      <td>4</td>\n",
              "    </tr>\n",
              "    <tr>\n",
              "      <th>3</th>\n",
              "      <td>hi please help employees attached thank officer floor blvd district</td>\n",
              "      <td>N/A</td>\n",
              "      <td>4</td>\n",
              "    </tr>\n",
              "    <tr>\n",
              "      <th>4</th>\n",
              "      <td>reset domain password tuesday october pm hello please colleague thank tester registered under number whose registered old broad street kingdom provide clients each subsidiaries separate entity has liability</td>\n",
              "      <td>N/A</td>\n",
              "      <td>4</td>\n",
              "    </tr>\n",
              "  </tbody>\n",
              "</table>\n",
              "</div>\n",
              "    <div class=\"colab-df-buttons\">\n",
              "\n",
              "  <div class=\"colab-df-container\">\n",
              "    <button class=\"colab-df-convert\" onclick=\"convertToInteractive('df-9f534b9c-3987-45aa-9a8d-43aa7f03fa44')\"\n",
              "            title=\"Convert this dataframe to an interactive table.\"\n",
              "            style=\"display:none;\">\n",
              "\n",
              "  <svg xmlns=\"http://www.w3.org/2000/svg\" height=\"24px\" viewBox=\"0 -960 960 960\">\n",
              "    <path d=\"M120-120v-720h720v720H120Zm60-500h600v-160H180v160Zm220 220h160v-160H400v160Zm0 220h160v-160H400v160ZM180-400h160v-160H180v160Zm440 0h160v-160H620v160ZM180-180h160v-160H180v160Zm440 0h160v-160H620v160Z\"/>\n",
              "  </svg>\n",
              "    </button>\n",
              "\n",
              "  <style>\n",
              "    .colab-df-container {\n",
              "      display:flex;\n",
              "      gap: 12px;\n",
              "    }\n",
              "\n",
              "    .colab-df-convert {\n",
              "      background-color: #E8F0FE;\n",
              "      border: none;\n",
              "      border-radius: 50%;\n",
              "      cursor: pointer;\n",
              "      display: none;\n",
              "      fill: #1967D2;\n",
              "      height: 32px;\n",
              "      padding: 0 0 0 0;\n",
              "      width: 32px;\n",
              "    }\n",
              "\n",
              "    .colab-df-convert:hover {\n",
              "      background-color: #E2EBFA;\n",
              "      box-shadow: 0px 1px 2px rgba(60, 64, 67, 0.3), 0px 1px 3px 1px rgba(60, 64, 67, 0.15);\n",
              "      fill: #174EA6;\n",
              "    }\n",
              "\n",
              "    .colab-df-buttons div {\n",
              "      margin-bottom: 4px;\n",
              "    }\n",
              "\n",
              "    [theme=dark] .colab-df-convert {\n",
              "      background-color: #3B4455;\n",
              "      fill: #D2E3FC;\n",
              "    }\n",
              "\n",
              "    [theme=dark] .colab-df-convert:hover {\n",
              "      background-color: #434B5C;\n",
              "      box-shadow: 0px 1px 3px 1px rgba(0, 0, 0, 0.15);\n",
              "      filter: drop-shadow(0px 1px 2px rgba(0, 0, 0, 0.3));\n",
              "      fill: #FFFFFF;\n",
              "    }\n",
              "  </style>\n",
              "\n",
              "    <script>\n",
              "      const buttonEl =\n",
              "        document.querySelector('#df-9f534b9c-3987-45aa-9a8d-43aa7f03fa44 button.colab-df-convert');\n",
              "      buttonEl.style.display =\n",
              "        google.colab.kernel.accessAllowed ? 'block' : 'none';\n",
              "\n",
              "      async function convertToInteractive(key) {\n",
              "        const element = document.querySelector('#df-9f534b9c-3987-45aa-9a8d-43aa7f03fa44');\n",
              "        const dataTable =\n",
              "          await google.colab.kernel.invokeFunction('convertToInteractive',\n",
              "                                                    [key], {});\n",
              "        if (!dataTable) return;\n",
              "\n",
              "        const docLinkHtml = 'Like what you see? Visit the ' +\n",
              "          '<a target=\"_blank\" href=https://colab.research.google.com/notebooks/data_table.ipynb>data table notebook</a>'\n",
              "          + ' to learn more about interactive tables.';\n",
              "        element.innerHTML = '';\n",
              "        dataTable['output_type'] = 'display_data';\n",
              "        await google.colab.output.renderOutput(dataTable, element);\n",
              "        const docLink = document.createElement('div');\n",
              "        docLink.innerHTML = docLinkHtml;\n",
              "        element.appendChild(docLink);\n",
              "      }\n",
              "    </script>\n",
              "  </div>\n",
              "\n",
              "\n",
              "    <div id=\"df-829c538b-2381-4371-ab7f-0a239b6af44f\">\n",
              "      <button class=\"colab-df-quickchart\" onclick=\"quickchart('df-829c538b-2381-4371-ab7f-0a239b6af44f')\"\n",
              "                title=\"Suggest charts\"\n",
              "                style=\"display:none;\">\n",
              "\n",
              "<svg xmlns=\"http://www.w3.org/2000/svg\" height=\"24px\"viewBox=\"0 0 24 24\"\n",
              "     width=\"24px\">\n",
              "    <g>\n",
              "        <path d=\"M19 3H5c-1.1 0-2 .9-2 2v14c0 1.1.9 2 2 2h14c1.1 0 2-.9 2-2V5c0-1.1-.9-2-2-2zM9 17H7v-7h2v7zm4 0h-2V7h2v10zm4 0h-2v-4h2v4z\"/>\n",
              "    </g>\n",
              "</svg>\n",
              "      </button>\n",
              "\n",
              "<style>\n",
              "  .colab-df-quickchart {\n",
              "      --bg-color: #E8F0FE;\n",
              "      --fill-color: #1967D2;\n",
              "      --hover-bg-color: #E2EBFA;\n",
              "      --hover-fill-color: #174EA6;\n",
              "      --disabled-fill-color: #AAA;\n",
              "      --disabled-bg-color: #DDD;\n",
              "  }\n",
              "\n",
              "  [theme=dark] .colab-df-quickchart {\n",
              "      --bg-color: #3B4455;\n",
              "      --fill-color: #D2E3FC;\n",
              "      --hover-bg-color: #434B5C;\n",
              "      --hover-fill-color: #FFFFFF;\n",
              "      --disabled-bg-color: #3B4455;\n",
              "      --disabled-fill-color: #666;\n",
              "  }\n",
              "\n",
              "  .colab-df-quickchart {\n",
              "    background-color: var(--bg-color);\n",
              "    border: none;\n",
              "    border-radius: 50%;\n",
              "    cursor: pointer;\n",
              "    display: none;\n",
              "    fill: var(--fill-color);\n",
              "    height: 32px;\n",
              "    padding: 0;\n",
              "    width: 32px;\n",
              "  }\n",
              "\n",
              "  .colab-df-quickchart:hover {\n",
              "    background-color: var(--hover-bg-color);\n",
              "    box-shadow: 0 1px 2px rgba(60, 64, 67, 0.3), 0 1px 3px 1px rgba(60, 64, 67, 0.15);\n",
              "    fill: var(--button-hover-fill-color);\n",
              "  }\n",
              "\n",
              "  .colab-df-quickchart-complete:disabled,\n",
              "  .colab-df-quickchart-complete:disabled:hover {\n",
              "    background-color: var(--disabled-bg-color);\n",
              "    fill: var(--disabled-fill-color);\n",
              "    box-shadow: none;\n",
              "  }\n",
              "\n",
              "  .colab-df-spinner {\n",
              "    border: 2px solid var(--fill-color);\n",
              "    border-color: transparent;\n",
              "    border-bottom-color: var(--fill-color);\n",
              "    animation:\n",
              "      spin 1s steps(1) infinite;\n",
              "  }\n",
              "\n",
              "  @keyframes spin {\n",
              "    0% {\n",
              "      border-color: transparent;\n",
              "      border-bottom-color: var(--fill-color);\n",
              "      border-left-color: var(--fill-color);\n",
              "    }\n",
              "    20% {\n",
              "      border-color: transparent;\n",
              "      border-left-color: var(--fill-color);\n",
              "      border-top-color: var(--fill-color);\n",
              "    }\n",
              "    30% {\n",
              "      border-color: transparent;\n",
              "      border-left-color: var(--fill-color);\n",
              "      border-top-color: var(--fill-color);\n",
              "      border-right-color: var(--fill-color);\n",
              "    }\n",
              "    40% {\n",
              "      border-color: transparent;\n",
              "      border-right-color: var(--fill-color);\n",
              "      border-top-color: var(--fill-color);\n",
              "    }\n",
              "    60% {\n",
              "      border-color: transparent;\n",
              "      border-right-color: var(--fill-color);\n",
              "    }\n",
              "    80% {\n",
              "      border-color: transparent;\n",
              "      border-right-color: var(--fill-color);\n",
              "      border-bottom-color: var(--fill-color);\n",
              "    }\n",
              "    90% {\n",
              "      border-color: transparent;\n",
              "      border-bottom-color: var(--fill-color);\n",
              "    }\n",
              "  }\n",
              "</style>\n",
              "\n",
              "      <script>\n",
              "        async function quickchart(key) {\n",
              "          const quickchartButtonEl =\n",
              "            document.querySelector('#' + key + ' button');\n",
              "          quickchartButtonEl.disabled = true;  // To prevent multiple clicks.\n",
              "          quickchartButtonEl.classList.add('colab-df-spinner');\n",
              "          try {\n",
              "            const charts = await google.colab.kernel.invokeFunction(\n",
              "                'suggestCharts', [key], {});\n",
              "          } catch (error) {\n",
              "            console.error('Error during call to suggestCharts:', error);\n",
              "          }\n",
              "          quickchartButtonEl.classList.remove('colab-df-spinner');\n",
              "          quickchartButtonEl.classList.add('colab-df-quickchart-complete');\n",
              "        }\n",
              "        (() => {\n",
              "          let quickchartButtonEl =\n",
              "            document.querySelector('#df-829c538b-2381-4371-ab7f-0a239b6af44f button');\n",
              "          quickchartButtonEl.style.display =\n",
              "            google.colab.kernel.accessAllowed ? 'block' : 'none';\n",
              "        })();\n",
              "      </script>\n",
              "    </div>\n",
              "\n",
              "  <div id=\"id_6e16616c-2ab1-4ac7-b211-4645b802c72c\">\n",
              "    <style>\n",
              "      .colab-df-generate {\n",
              "        background-color: #E8F0FE;\n",
              "        border: none;\n",
              "        border-radius: 50%;\n",
              "        cursor: pointer;\n",
              "        display: none;\n",
              "        fill: #1967D2;\n",
              "        height: 32px;\n",
              "        padding: 0 0 0 0;\n",
              "        width: 32px;\n",
              "      }\n",
              "\n",
              "      .colab-df-generate:hover {\n",
              "        background-color: #E2EBFA;\n",
              "        box-shadow: 0px 1px 2px rgba(60, 64, 67, 0.3), 0px 1px 3px 1px rgba(60, 64, 67, 0.15);\n",
              "        fill: #174EA6;\n",
              "      }\n",
              "\n",
              "      [theme=dark] .colab-df-generate {\n",
              "        background-color: #3B4455;\n",
              "        fill: #D2E3FC;\n",
              "      }\n",
              "\n",
              "      [theme=dark] .colab-df-generate:hover {\n",
              "        background-color: #434B5C;\n",
              "        box-shadow: 0px 1px 3px 1px rgba(0, 0, 0, 0.15);\n",
              "        filter: drop-shadow(0px 1px 2px rgba(0, 0, 0, 0.3));\n",
              "        fill: #FFFFFF;\n",
              "      }\n",
              "    </style>\n",
              "    <button class=\"colab-df-generate\" onclick=\"generateWithVariable('comparison_df')\"\n",
              "            title=\"Generate code using this dataframe.\"\n",
              "            style=\"display:none;\">\n",
              "\n",
              "  <svg xmlns=\"http://www.w3.org/2000/svg\" height=\"24px\"viewBox=\"0 0 24 24\"\n",
              "       width=\"24px\">\n",
              "    <path d=\"M7,19H8.4L18.45,9,17,7.55,7,17.6ZM5,21V16.75L18.45,3.32a2,2,0,0,1,2.83,0l1.4,1.43a1.91,1.91,0,0,1,.58,1.4,1.91,1.91,0,0,1-.58,1.4L9.25,21ZM18.45,9,17,7.55Zm-12,3A5.31,5.31,0,0,0,4.9,8.1,5.31,5.31,0,0,0,1,6.5,5.31,5.31,0,0,0,4.9,4.9,5.31,5.31,0,0,0,6.5,1,5.31,5.31,0,0,0,8.1,4.9,5.31,5.31,0,0,0,12,6.5,5.46,5.46,0,0,0,6.5,12Z\"/>\n",
              "  </svg>\n",
              "    </button>\n",
              "    <script>\n",
              "      (() => {\n",
              "      const buttonEl =\n",
              "        document.querySelector('#id_6e16616c-2ab1-4ac7-b211-4645b802c72c button.colab-df-generate');\n",
              "      buttonEl.style.display =\n",
              "        google.colab.kernel.accessAllowed ? 'block' : 'none';\n",
              "\n",
              "      buttonEl.onclick = () => {\n",
              "        google.colab.notebook.generateWithVariable('comparison_df');\n",
              "      }\n",
              "      })();\n",
              "    </script>\n",
              "  </div>\n",
              "\n",
              "    </div>\n",
              "  </div>\n"
            ],
            "application/vnd.google.colaboratory.intrinsic+json": {
              "type": "dataframe",
              "variable_name": "comparison_df",
              "summary": "{\n  \"name\": \"comparison_df\",\n  \"rows\": 5,\n  \"fields\": [\n    {\n      \"column\": \"Text\",\n      \"properties\": {\n        \"dtype\": \"string\",\n        \"num_unique_values\": 5,\n        \"samples\": [\n          \"can connect with oracle can connect with dear have problem with connecting with entering password open please why can connect urgent thank you regards manager\",\n          \"reset domain password tuesday october pm hello please colleague thank tester registered under number whose registered old broad street kingdom provide clients each subsidiaries separate entity has liability\",\n          \"access request for a list or library friday pm library requesting library links library manage setting library please provide regards note site site site provides central storage collaboration information ideas site tool collaboration tool communication meeting tool decision making site helps groups work teams social groups share information work together example site help coordinate calendars schedules discuss ideas review proposals share information keep touch other sites dynamic interactive members site contribute own ideas content well comment contribute other\"\n        ],\n        \"semantic_type\": \"\",\n        \"description\": \"\"\n      }\n    },\n    {\n      \"column\": \"LLM_Predicted_Category\",\n      \"properties\": {\n        \"dtype\": \"category\",\n        \"num_unique_values\": 1,\n        \"samples\": [\n          \"N/A\"\n        ],\n        \"semantic_type\": \"\",\n        \"description\": \"\"\n      }\n    },\n    {\n      \"column\": \"ML_Predicted_Category\",\n      \"properties\": {\n        \"dtype\": \"number\",\n        \"std\": 0,\n        \"min\": 4,\n        \"max\": 4,\n        \"num_unique_values\": 1,\n        \"samples\": [\n          4\n        ],\n        \"semantic_type\": \"\",\n        \"description\": \"\"\n      }\n    }\n  ]\n}"
            }
          },
          "metadata": {}
        }
      ]
    },
    {
      "cell_type": "code",
      "source": [
        "print(\"Alhumdulillah ✔ Done\")"
      ],
      "metadata": {
        "colab": {
          "base_uri": "https://localhost:8080/"
        },
        "id": "EHaVDS3ohooX",
        "outputId": "2aafd518-78ee-4e7e-e874-3f8ae3edb8c8"
      },
      "execution_count": 42,
      "outputs": [
        {
          "output_type": "stream",
          "name": "stdout",
          "text": [
            "Alhumdulillah ✔ Done\n"
          ]
        }
      ]
    },
    {
      "cell_type": "markdown",
      "source": [
        "## **Conclusion**\n",
        "\n",
        "This notebook demonstrates how both **LLMs** and **traditional ML pipelines** can be applied to **support ticket classification**.\n",
        "\n",
        "---\n",
        "\n",
        "#### **Summary Comparison**\n",
        "\n",
        "| Method | Strengths | Weaknesses |\n",
        "|--------|-----------|------------|\n",
        "| **Gemini / BART (LLM)** | No training needed, generalizes well, can explain decisions | Requires API key, may be slower, can hallucinate |\n",
        "| **Logistic Regression + TF-IDF** | Fast, interpretable, high accuracy if trained | Needs labeled data, less flexible than LLMs |\n",
        "\n",
        "---\n",
        "\n",
        "#### **When to Use What?**\n",
        "\n",
        "- Use **LLMs (Gemini, BART)** when:\n",
        "  - You don’t have labeled training data\n",
        "  - You need quick prototyping\n",
        "  - You want to generate **top 3 tags** and **natural explanations**\n",
        "\n",
        "- Use **traditional ML (Logistic Regression)** when:\n",
        "  - You have a labeled dataset\n",
        "  - Need **speed** and **control**\n",
        "  - Want to run models offline without relying on APIs\n",
        "\n",
        "---\n",
        "\n",
        "#### **Status: All Task 5 Requirements**\n",
        "\n",
        "- Prompt Engineering\n",
        "- LLM-based Text Classification\n",
        "- Zero-Shot & Few-Shot Learning\n",
        "- Multi-Class Prediction & Ranking\n",
        "- Traditional ML Comparison\n"
      ],
      "metadata": {
        "id": "e72XDtschzQM"
      }
    }
  ]
}